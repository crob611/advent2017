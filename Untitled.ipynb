{
 "cells": [
  {
   "cell_type": "code",
   "execution_count": 6,
   "metadata": {},
   "outputs": [],
   "source": [
    "def Input(day):\n",
    "    \"Open this day's input file.\"\n",
    "    filename = 'inputs/{}.txt'.format(day)\n",
    "\n",
    "    return open(filename)"
   ]
  },
  {
   "cell_type": "markdown",
   "metadata": {},
   "source": [
    "# Day 1\n",
    "\n",
    "The captcha requires you to review a sequence of digits (your puzzle input) and find the sum of all digits that match the next digit in the list. The list is circular, so the digit after the last digit is the first digit in the list.\n",
    "\n",
    "For example:\n",
    "\n",
    "- 1122 produces a sum of 3 (1 + 2) because the first digit (1) matches the second digit and the third digit (2) matches the fourth digit.\n",
    "- 1111 produces 4 because each digit (all 1) matches the next.\n",
    "- 1234 produces 0 because no digit matches the next.\n",
    "- 91212129 produces 9 because the only digit that matches the next one is the last digit, 9."
   ]
  },
  {
   "cell_type": "markdown",
   "metadata": {},
   "source": [
    "To solve I'll want to turn input into an array, then walk through the array, comparing each with next.  "
   ]
  },
  {
   "cell_type": "code",
   "execution_count": 7,
   "metadata": {
    "scrolled": true
   },
   "outputs": [
    {
     "name": "stdout",
     "output_type": "stream",
     "text": [
      "1343\n"
     ]
    }
   ],
   "source": [
    "def parseDay1(string):\n",
    "  string = string.strip('\\n')\n",
    "  characters = list(string)\n",
    "  characters.append(characters[0]) # Add that first character to the end (for comparison)\n",
    "  return characters \n",
    "\n",
    "def walkList(inputList):\n",
    "  solution = 0\n",
    "  for i in range(len(inputList) - 1):\n",
    "    if inputList[i] == inputList[i + 1]: \n",
    "      solution = solution + int(inputList[i])\n",
    "\n",
    "  return solution\n",
    "\n",
    "\n",
    "assert(''.join(parseDay1('1122'))) == '11221'\n",
    "assert(walkList(parseDay1('1122'))) == 3\n",
    "assert(walkList(parseDay1('1111'))) == 4\n",
    "assert(walkList(parseDay1('1234'))) == 0\n",
    "assert(walkList(parseDay1('9121212129'))) == 9\n",
    "    \n",
    "\n",
    "print walkList(parseDay1(Input(1).read()))\n",
    "\n"
   ]
  },
  {
   "cell_type": "markdown",
   "metadata": {},
   "source": [
    "**Part 2**\n",
    "Now, instead of considering the next digit, it wants you to consider the digit halfway around the circular list. That is, if your list contains 10 items, only include a digit in your sum if the digit 10/2 = 5 steps forward matches it. Fortunately, your list has an even number of elements.\n",
    "\n",
    "For example:\n",
    "\n",
    "- 1212 produces 6: the list contains 4 items, and all four digits match the digit 2 items ahead.\n",
    "- 1221 produces 0, because every comparison is between a 1 and a 2.\n",
    "- 123425 produces 4, because both 2s match each other, but no other digit has a match.\n",
    "- 123123 produces 12.\n",
    "- 12131415 produces 4."
   ]
  },
  {
   "cell_type": "markdown",
   "metadata": {},
   "source": [
    "Blerg, I handled how to do the comparison quite wrong.  And the parsing wrong too.  So, pretty much going to rewrite this.  \n",
    "\n",
    "I should give walkList the list, and a function that finds comparison entry\n"
   ]
  },
  {
   "cell_type": "code",
   "execution_count": 8,
   "metadata": {},
   "outputs": [
    {
     "name": "stdout",
     "output_type": "stream",
     "text": [
      "1343\n",
      "1274\n"
     ]
    }
   ],
   "source": [
    "def parseDay1(string):\n",
    "  string = string.strip('\\n')\n",
    "  characters = list(string)\n",
    "  return characters \n",
    "\n",
    "def rightAfterCharacter(list, index):\n",
    "  length = len(list)\n",
    "  return list[(index + 1) % length]\n",
    "\n",
    "def halfwayCharacter(list, index):\n",
    "  length = len(list)\n",
    "  halfway = length / 2\n",
    "    \n",
    "  return list[(index + halfway) % length]\n",
    "\n",
    "def walkList(inputList, findComparisonCharacter):\n",
    "  solution = 0\n",
    "  for i in range(len(inputList)):\n",
    "    character = inputList[i]\n",
    "    comparison_char = findComparisonCharacter(inputList, i)\n",
    "    if character == comparison_char:\n",
    "      solution = solution + int(character)\n",
    "\n",
    "  return solution\n",
    "\n",
    "assert walkList(parseDay1('1122'), rightAfterCharacter) == 3\n",
    "assert walkList(parseDay1('1111'), rightAfterCharacter) == 4\n",
    "assert walkList(parseDay1('1234'), rightAfterCharacter) == 0\n",
    "assert walkList(parseDay1('9121212129'), rightAfterCharacter) == 9\n",
    "\n",
    "assert walkList(parseDay1('1212'), halfwayCharacter) == 6\n",
    "assert walkList(parseDay1('1221'), halfwayCharacter) == 0\n",
    "assert walkList(parseDay1('123425'), halfwayCharacter) == 4\n",
    "assert walkList(parseDay1('123123'), halfwayCharacter) == 12\n",
    "    \n",
    "\n",
    "print walkList(parseDay1(Input(1).read()), rightAfterCharacter)\n",
    "print walkList(parseDay1(Input(1).read()), halfwayCharacter)\n"
   ]
  },
  {
   "cell_type": "markdown",
   "metadata": {},
   "source": [
    "\n",
    "\n",
    "# Day 2\n",
    "\n",
    "The spreadsheet consists of rows of apparently-random numbers. To make sure the recovery process is on the right track, they need you to calculate the spreadsheet's checksum. For each row, determine the difference between the largest value and the smallest value; the checksum is the sum of all of these differences.\n",
    "\n",
    "For example, given the following spreadsheet:\n",
    "\n",
    "`\n",
    "5 1 9 5\n",
    "7 5 3\n",
    "2 4 6 8\n",
    "`\n",
    "\n",
    "The first row's largest and smallest values are 9 and 1, and their difference is 8.\n",
    "The second row's largest and smallest values are 7 and 3, and their difference is 4.\n",
    "The third row's difference is 6.\n",
    "In this example, the spreadsheet's checksum would be 8 + 4 + 6 = 18."
   ]
  },
  {
   "cell_type": "markdown",
   "metadata": {},
   "source": [
    "So I think I'll convert the each line to a list of integers, then sort that list smallest to largest.  That should let me easily grab min and max. "
   ]
  },
  {
   "cell_type": "code",
   "execution_count": 9,
   "metadata": {},
   "outputs": [
    {
     "name": "stdout",
     "output_type": "stream",
     "text": [
      "34925\n"
     ]
    }
   ],
   "source": [
    "def parseDay2(rawOpenFile):\n",
    "  lines = rawOpenFile.readlines()\n",
    "  lines = [x.strip() for x in lines]\n",
    "  lines = [map(int, x.split('\\t')) for x in lines]\n",
    "  return lines\n",
    "\n",
    "def findRowChecksumValue(row):\n",
    "  sortedRow = sorted(row)\n",
    "  rowLen = len(sortedRow)\n",
    "  return sortedRow[rowLen - 1] - sortedRow[0]\n",
    "\n",
    "def findFileChecksum(rows):\n",
    "  check = 0\n",
    "  for row in rows:\n",
    "    check = check + findRowChecksumValue(row)\n",
    "  \n",
    "  return check\n",
    "\n",
    "sample = [[5, 1, 9, 5], [7, 5, 3], [2, 4, 6, 8]]\n",
    "\n",
    "assert findRowChecksumValue([2,5,1]) == 4\n",
    "assert findFileChecksum(sample) == 18\n",
    "\n",
    "print(findFileChecksum(parseDay2(Input(2))))\n"
   ]
  },
  {
   "cell_type": "markdown",
   "metadata": {},
   "source": [
    "** Part 2 **\n",
    "\n",
    "It sounds like the goal is to find the only two numbers in each row where one evenly divides the other - that is, where the result of the division operation is a whole number. They would like you to find those numbers on each line, divide them, and add up each line's result."
   ]
  },
  {
   "cell_type": "markdown",
   "metadata": {},
   "source": [
    "So how to find the divisible numbers?  Easiest thing would be start at 0, then try 1 through length, move to 1, try 2 through length etc.  \n",
    "\n",
    "Any brighter ideas?\n",
    "\n",
    "I can't think of any.  "
   ]
  },
  {
   "cell_type": "code",
   "execution_count": 10,
   "metadata": {},
   "outputs": [
    {
     "name": "stdout",
     "output_type": "stream",
     "text": [
      "221\n"
     ]
    }
   ],
   "source": [
    "def findRowChecksumValue(row):\n",
    "  check = 0\n",
    "  for i in range(len(row)):\n",
    "    num = row[i]\n",
    "    possible = row[i + 1:]\n",
    "    for thing in possible:\n",
    "      if (float(num) / float(thing)).is_integer():\n",
    "        check = num / thing\n",
    "        break\n",
    "      elif (float(thing) / float(num)).is_integer():\n",
    "        check = thing / num\n",
    "        break\n",
    "\n",
    "  return check\n",
    "\n",
    "def findFileChecksum(rows):\n",
    "  check = 0\n",
    "  for row in rows:\n",
    "    check = check + findRowChecksumValue(row)\n",
    "  \n",
    "  return check\n",
    "\n",
    "sample = [[5,9,2,8], [9,4,7,3], [3,8,6,5]]\n",
    "\n",
    "assert findRowChecksumValue([2,3,7,8]) == 4\n",
    "assert findRowChecksumValue([8,7,3,2]) == 4\n",
    "assert findFileChecksum(sample) == 9\n",
    "\n",
    "print(findFileChecksum(parseDay2(Input(2))))"
   ]
  },
  {
   "cell_type": "markdown",
   "metadata": {},
   "source": [
    "# Day 3\n",
    "\n",
    "Let's see if there's a formula for figuring out where a number will fall so we don't have to just build out an arbitrary grid.  \n",
    "\n",
    "So the center most square (just the number 1) has 2^0 numbers\n",
    "The next outer square (2-9) has 2^3 numbers (8)\n",
    "The next has 16 (2^4)\n",
    "The next has just 24 (doesn't fall nicely into our pattern)\n",
    "\n",
    "ok try a differnt pattern\n",
    "Center square has 1\n",
    "Square 2 has 8 (3x3 square) for 9 total numbers\n",
    "Square 3 has 16 (5x5 square) for 25 total numbers\n",
    "Square 4 has 24 (7x7) for 49 total numbers\n",
    "Square 5 has 32 (9x9) for 81 total numbers\n",
    "\n",
    "Ok this is promising.  So we should be able to figure out which odd square (x^2) the given number falls into and from there figure out how to walk it back to the center.  \n"
   ]
  },
  {
   "cell_type": "code",
   "execution_count": 11,
   "metadata": {},
   "outputs": [
    {
     "name": "stdout",
     "output_type": "stream",
     "text": [
      "480\n"
     ]
    }
   ],
   "source": [
    "import math\n",
    "\n",
    "def isOdd(num):\n",
    "  return num % 2 != 0\n",
    "\n",
    "def findOddSquare(num):\n",
    "  base = math.sqrt(float(num))\n",
    "  if base.is_integer():\n",
    "    base = int(base)\n",
    "    if not isOdd(base):\n",
    "      base = base + 1\n",
    "  else:\n",
    "    base = int(base) + 1\n",
    "    if not isOdd(base):\n",
    "      base = base + 1\n",
    "  \n",
    "  return base\n",
    "\n",
    "\n",
    "def findStepsToCenterRow(num):\n",
    "  square = findOddSquare(num)\n",
    "  offsetToCenter = (int(square) / 2)  \n",
    "  startNumber = (square - 2) * (square - 2) + offsetToCenter\n",
    "\n",
    "  centerToCenter = (square + square + (square - 2) + (square - 2)) / 4\n",
    "  maxStepsToCenter = centerToCenter / 2\n",
    "    \n",
    "  stepsToCenter = (num - startNumber) % centerToCenter\n",
    "  if stepsToCenter > maxStepsToCenter:\n",
    "    stepsToCenter = stepsToCenter - maxStepsToCenter\n",
    " \n",
    "  return stepsToCenter\n",
    "\n",
    "def findTotalStepsToCenter(num):\n",
    "  square = findOddSquare(num)\n",
    "  return findStepsToCenterRow(num) + (int(square / 2))\n",
    "\n",
    "assert findOddSquare(8) == 3\n",
    "assert findOddSquare(49) == 7\n",
    "assert findOddSquare(36) == 7\n",
    "assert findOddSquare(50) == 9\n",
    "\n",
    "assert findStepsToCenterRow(2) == 0\n",
    "assert findStepsToCenterRow(11) == 0  \n",
    "assert findStepsToCenterRow(12) == 1\n",
    "assert findStepsToCenterRow(13) == 2\n",
    "assert findStepsToCenterRow(14) == 1\n",
    "assert findStepsToCenterRow(15) == 0\n",
    "assert findStepsToCenterRow(25) == 2\n",
    "\n",
    "assert findTotalStepsToCenter(12) == 3\n",
    "assert findTotalStepsToCenter(23) == 2\n",
    "assert findTotalStepsToCenter(1024) == 31\n",
    "\n",
    "print findTotalStepsToCenter(347991)\n"
   ]
  },
  {
   "cell_type": "markdown",
   "metadata": {},
   "source": [
    "**Part 2**\n",
    "\n",
    "Well, part one looks to be completely useless for this part. Let's see if we can't figure out a similar pattern for building the grid out. \n",
    "\n",
    "The key part is figuring out which other numbers each square touches. \n",
    "\n",
    "I think at most, it can only be touching 4 cells that are already created.  \n",
    "\n",
    "It always touches it's previous number.  (So like, cell 5 will always be touching cell 4.  \n",
    "\n",
    "Once you hit 5x5 if it's the first number, it touches 2, or if it's a corner it touches 2, or right before a corner it touches 3, otherwise it touches 4.  \n",
    "\n",
    "If not the first number in the square, then on the right side of the square, the horizontal step into the adjacent spot on the interior ring is (nth odd - 2) * 8 + 1\n",
    "\n",
    "so the 3x3 ring is the 2nd odd and takes a step back of 1\n",
    "the 5x5 ring is the 3rd odd and takes a step back of 9"
   ]
  },
  {
   "cell_type": "code",
   "execution_count": 82,
   "metadata": {},
   "outputs": [
    {
     "name": "stdout",
     "output_type": "stream",
     "text": [
      "63\n",
      "349975\n"
     ]
    }
   ],
   "source": [
    "def stepBackSize(ringDimension):\n",
    "  return (int(ringDimension / 2 ) - 1) * 8 + 1\n",
    "\n",
    "def firstNumberForSquare(square):\n",
    "    return (square - 2) * (square - 2) + 1\n",
    "\n",
    "def isCorner(number):\n",
    "    square = findOddSquare(number)\n",
    "    start = firstNumberForSquare(square)\n",
    "    cornerbreaks = square - 1\n",
    "    corner = float(number - start + 1 ) / cornerbreaks\n",
    "\n",
    "    if corner.is_integer():\n",
    "        return corner\n",
    "    else:\n",
    "        return False\n",
    "\n",
    "def cornersPassed(number):\n",
    "    square = findOddSquare(number)\n",
    "    start = firstNumberForSquare(square)\n",
    "    cornerbreaks = square - 1\n",
    "    return int((number - start) / cornerbreaks)\n",
    "    \n",
    "\n",
    "def getCellsTouched(number):\n",
    "  square = findOddSquare(number)\n",
    "  baseStepBackSize = stepBackSize(square)\n",
    "  numCornersPassed = cornersPassed(number)\n",
    "  stepModifier = numCornersPassed * 2\n",
    "  modifiedStepBack = baseStepBackSize + stepModifier\n",
    "  squareFirstNumber = firstNumberForSquare(square)\n",
    "  \n",
    "    \n",
    "  isOnCorner = isCorner(number)  \n",
    "  isBeforeCorner = isCorner(number + 1)\n",
    "  isAfterCorner = isCorner(number - 1)\n",
    "  \n",
    "  cells = [number - 1] #will always touch its previous cell\n",
    "    \n",
    "  # If it's the first number of a square, then it also touches the first number of the previous cell\n",
    "  if number == squareFirstNumber:\n",
    "    cells.append(firstNumberForSquare(square - 2))\n",
    "    return cells\n",
    "  elif number == (squareFirstNumber + 1):\n",
    "    cells.append(number - 2)\n",
    "    cells.append(number - baseStepBackSize)\n",
    "    cells.append(number - baseStepBackSize + 1)\n",
    "    return cells\n",
    "  elif isBeforeCorner != False and numCornersPassed < 3:\n",
    "    cells.append(number - modifiedStepBack)\n",
    "    cells.append(number - modifiedStepBack - 1)\n",
    "    return cells\n",
    "  elif isOnCorner != False and numCornersPassed == 3:\n",
    "    cells.append(number - modifiedStepBack)\n",
    "    cells.append(number - modifiedStepBack - 1)\n",
    "    return cells\n",
    "  elif isOnCorner != False:\n",
    "    cells.append(number - 1 - modifiedStepBack)\n",
    "    return cells\n",
    "  elif isAfterCorner != False:    \n",
    "    cells.append(number - 2)\n",
    "    cells.append(number - modifiedStepBack)\n",
    "    cells.append(number - modifiedStepBack + 1)\n",
    "    return cells\n",
    "  else:\n",
    "    cells.append(number - modifiedStepBack)\n",
    "    cells.append(number - modifiedStepBack + 1)\n",
    "    cells.append(number - modifiedStepBack - 1)\n",
    "    return cells\n",
    "  return []\n",
    "\n",
    "def buildList(toNum):\n",
    "    myList = [0, 1, 1, 2, 4, 5, 10, 11, 23, 25]\n",
    "    hasPrinted = False\n",
    "    \n",
    "    for i in range(10, 65):\n",
    "      cells = getCellsTouched(i)\n",
    "      sum = 0\n",
    "      for cell in cells:\n",
    "        sum = sum + myList[cell]\n",
    "      if sum > 347991 and hasPrinted == False:\n",
    "        hasPrinted = True\n",
    "        print i\n",
    "      myList.append(sum)\n",
    "    return myList\n",
    "\n",
    "assert stepBackSize(3) == 1\n",
    "assert stepBackSize(5) == 9\n",
    "assert stepBackSize(7) == 17\n",
    "assert stepBackSize(9) == 25\n",
    "\n",
    "assert firstNumberForSquare(3) == 2\n",
    "assert firstNumberForSquare(5) == 10\n",
    "\n",
    "assert cornersPassed(12) == 0\n",
    "assert cornersPassed(14) == 1\n",
    "assert cornersPassed(23) == 3\n",
    "\n",
    "assert isCorner(25) == 4\n",
    "assert isCorner(13) == 1\n",
    "assert isCorner(14) == False\n",
    "\n",
    "# First Cells\n",
    "assert getCellsTouched(10) == [9, 2]\n",
    "assert getCellsTouched(26) == [25, 10]\n",
    "\n",
    "# Second Cells\n",
    "assert getCellsTouched(11) == [10,9,2,3]\n",
    "assert getCellsTouched(27) == [26, 25, 10, 11]\n",
    "\n",
    "# Before Corner\n",
    "assert getCellsTouched(12) == [11, 3, 2]\n",
    "assert getCellsTouched(30) == [29, 13, 12]\n",
    "\n",
    "# On Corner\n",
    "assert getCellsTouched(13) == [12, 3]\n",
    "assert getCellsTouched(31) == [30, 13]\n",
    "\n",
    "# Before Last Corner\n",
    "assert getCellsTouched(24) == [23, 9, 10, 8]\n",
    "assert getCellsTouched(48) == [47, 25, 26, 24]\n",
    "\n",
    "# Last Corner\n",
    "assert getCellsTouched(25) == [24, 10, 9]\n",
    "assert getCellsTouched(49) == [48, 26, 25]\n",
    "\n",
    "# After Corner\n",
    "assert getCellsTouched(14) == [13, 12, 3, 4]\n",
    "assert getCellsTouched(32) == [31, 30, 13, 14]\n",
    "\n",
    "# Normal Numbers\n",
    "assert getCellsTouched(23) == [22, 8, 9, 7]\n",
    "\n",
    "\n",
    "builtList = buildList(0)\n",
    "print builtList[63]"
   ]
  },
  {
   "cell_type": "code",
   "execution_count": null,
   "metadata": {},
   "outputs": [],
   "source": []
  }
 ],
 "metadata": {
  "kernelspec": {
   "display_name": "Python 2",
   "language": "python",
   "name": "python2"
  },
  "language_info": {
   "codemirror_mode": {
    "name": "ipython",
    "version": 2
   },
   "file_extension": ".py",
   "mimetype": "text/x-python",
   "name": "python",
   "nbconvert_exporter": "python",
   "pygments_lexer": "ipython2",
   "version": "2.7.12"
  }
 },
 "nbformat": 4,
 "nbformat_minor": 2
}
