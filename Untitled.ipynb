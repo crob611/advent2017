{
 "cells": [
  {
   "cell_type": "code",
   "execution_count": 109,
   "metadata": {},
   "outputs": [],
   "source": [
    "def Input(day):\n",
    "    \"Open this day's input file.\"\n",
    "    filename = 'inputs/{}.txt'.format(day)\n",
    "\n",
    "    return open(filename)"
   ]
  },
  {
   "cell_type": "markdown",
   "metadata": {},
   "source": [
    "# Day 1\n",
    "\n",
    "The captcha requires you to review a sequence of digits (your puzzle input) and find the sum of all digits that match the next digit in the list. The list is circular, so the digit after the last digit is the first digit in the list.\n",
    "\n",
    "For example:\n",
    "\n",
    "- 1122 produces a sum of 3 (1 + 2) because the first digit (1) matches the second digit and the third digit (2) matches the fourth digit.\n",
    "- 1111 produces 4 because each digit (all 1) matches the next.\n",
    "- 1234 produces 0 because no digit matches the next.\n",
    "- 91212129 produces 9 because the only digit that matches the next one is the last digit, 9."
   ]
  },
  {
   "cell_type": "markdown",
   "metadata": {},
   "source": [
    "To solve I'll want to turn input into an array, then walk through the array, comparing each with next.  "
   ]
  },
  {
   "cell_type": "code",
   "execution_count": 110,
   "metadata": {
    "scrolled": true
   },
   "outputs": [
    {
     "name": "stdout",
     "output_type": "stream",
     "text": [
      "1343\n"
     ]
    }
   ],
   "source": [
    "def parseDay1(string):\n",
    "  string = string.strip('\\n')\n",
    "  characters = list(string)\n",
    "  characters.append(characters[0]) # Add that first character to the end (for comparison)\n",
    "  return characters \n",
    "\n",
    "def walkList(inputList):\n",
    "  solution = 0\n",
    "  for i in range(len(inputList) - 1):\n",
    "    if inputList[i] == inputList[i + 1]: \n",
    "      solution = solution + int(inputList[i])\n",
    "\n",
    "  return solution\n",
    "\n",
    "\n",
    "assert(''.join(parseDay1('1122'))) == '11221'\n",
    "assert(walkList(parseDay1('1122'))) == 3\n",
    "assert(walkList(parseDay1('1111'))) == 4\n",
    "assert(walkList(parseDay1('1234'))) == 0\n",
    "assert(walkList(parseDay1('9121212129'))) == 9\n",
    "    \n",
    "\n",
    "print walkList(parseDay1(Input(1).read()))\n",
    "\n"
   ]
  },
  {
   "cell_type": "markdown",
   "metadata": {},
   "source": [
    "**Part 2**\n",
    "Now, instead of considering the next digit, it wants you to consider the digit halfway around the circular list. That is, if your list contains 10 items, only include a digit in your sum if the digit 10/2 = 5 steps forward matches it. Fortunately, your list has an even number of elements.\n",
    "\n",
    "For example:\n",
    "\n",
    "- 1212 produces 6: the list contains 4 items, and all four digits match the digit 2 items ahead.\n",
    "- 1221 produces 0, because every comparison is between a 1 and a 2.\n",
    "- 123425 produces 4, because both 2s match each other, but no other digit has a match.\n",
    "- 123123 produces 12.\n",
    "- 12131415 produces 4."
   ]
  },
  {
   "cell_type": "markdown",
   "metadata": {},
   "source": [
    "Blerg, I handled how to do the comparison quite wrong.  And the parsing wrong too.  So, pretty much going to rewrite this.  \n",
    "\n",
    "I should give walkList the list, and a function that finds comparison entry\n"
   ]
  },
  {
   "cell_type": "code",
   "execution_count": 111,
   "metadata": {},
   "outputs": [
    {
     "name": "stdout",
     "output_type": "stream",
     "text": [
      "1343\n",
      "1274\n"
     ]
    }
   ],
   "source": [
    "def parseDay1(string):\n",
    "  string = string.strip('\\n')\n",
    "  characters = list(string)\n",
    "  return characters \n",
    "\n",
    "def rightAfterCharacter(list, index):\n",
    "  length = len(list)\n",
    "  return list[(index + 1) % length]\n",
    "\n",
    "def halfwayCharacter(list, index):\n",
    "  length = len(list)\n",
    "  halfway = length / 2\n",
    "    \n",
    "  return list[(index + halfway) % length]\n",
    "\n",
    "def walkList(inputList, findComparisonCharacter):\n",
    "  solution = 0\n",
    "  for i in range(len(inputList)):\n",
    "    character = inputList[i]\n",
    "    comparison_char = findComparisonCharacter(inputList, i)\n",
    "    if character == comparison_char:\n",
    "      solution = solution + int(character)\n",
    "\n",
    "  return solution\n",
    "\n",
    "assert walkList(parseDay1('1122'), rightAfterCharacter) == 3\n",
    "assert walkList(parseDay1('1111'), rightAfterCharacter) == 4\n",
    "assert walkList(parseDay1('1234'), rightAfterCharacter) == 0\n",
    "assert walkList(parseDay1('9121212129'), rightAfterCharacter) == 9\n",
    "\n",
    "assert walkList(parseDay1('1212'), halfwayCharacter) == 6\n",
    "assert walkList(parseDay1('1221'), halfwayCharacter) == 0\n",
    "assert walkList(parseDay1('123425'), halfwayCharacter) == 4\n",
    "assert walkList(parseDay1('123123'), halfwayCharacter) == 12\n",
    "    \n",
    "\n",
    "print walkList(parseDay1(Input(1).read()), rightAfterCharacter)\n",
    "print walkList(parseDay1(Input(1).read()), halfwayCharacter)\n"
   ]
  },
  {
   "cell_type": "markdown",
   "metadata": {},
   "source": [
    "\n",
    "\n",
    "# Day 2\n",
    "\n",
    "The spreadsheet consists of rows of apparently-random numbers. To make sure the recovery process is on the right track, they need you to calculate the spreadsheet's checksum. For each row, determine the difference between the largest value and the smallest value; the checksum is the sum of all of these differences.\n",
    "\n",
    "For example, given the following spreadsheet:\n",
    "\n",
    "`\n",
    "5 1 9 5\n",
    "7 5 3\n",
    "2 4 6 8\n",
    "`\n",
    "\n",
    "The first row's largest and smallest values are 9 and 1, and their difference is 8.\n",
    "The second row's largest and smallest values are 7 and 3, and their difference is 4.\n",
    "The third row's difference is 6.\n",
    "In this example, the spreadsheet's checksum would be 8 + 4 + 6 = 18."
   ]
  },
  {
   "cell_type": "markdown",
   "metadata": {},
   "source": [
    "So I think I'll convert the each line to a list of integers, then sort that list smallest to largest.  That should let me easily grab min and max. "
   ]
  },
  {
   "cell_type": "code",
   "execution_count": 112,
   "metadata": {},
   "outputs": [
    {
     "name": "stdout",
     "output_type": "stream",
     "text": [
      "34925\n"
     ]
    }
   ],
   "source": [
    "def parseDay2(rawOpenFile):\n",
    "  lines = rawOpenFile.readlines()\n",
    "  lines = [x.strip() for x in lines]\n",
    "  lines = [map(int, x.split('\\t')) for x in lines]\n",
    "  return lines\n",
    "\n",
    "def findRowChecksumValue(row):\n",
    "  sortedRow = sorted(row)\n",
    "  rowLen = len(sortedRow)\n",
    "  return sortedRow[rowLen - 1] - sortedRow[0]\n",
    "\n",
    "def findFileChecksum(rows):\n",
    "  check = 0\n",
    "  for row in rows:\n",
    "    check = check + findRowChecksumValue(row)\n",
    "  \n",
    "  return check\n",
    "\n",
    "sample = [[5, 1, 9, 5], [7, 5, 3], [2, 4, 6, 8]]\n",
    "\n",
    "assert findRowChecksumValue([2,5,1]) == 4\n",
    "assert findFileChecksum(sample) == 18\n",
    "\n",
    "print(findFileChecksum(parseDay2(Input(2))))\n"
   ]
  },
  {
   "cell_type": "markdown",
   "metadata": {},
   "source": [
    "** Part 2 **\n",
    "\n",
    "It sounds like the goal is to find the only two numbers in each row where one evenly divides the other - that is, where the result of the division operation is a whole number. They would like you to find those numbers on each line, divide them, and add up each line's result."
   ]
  },
  {
   "cell_type": "markdown",
   "metadata": {},
   "source": [
    "So how to find the divisible numbers?  Easiest thing would be start at 0, then try 1 through length, move to 1, try 2 through length etc.  \n",
    "\n",
    "Any brighter ideas?\n",
    "\n",
    "I can't think of any.  "
   ]
  },
  {
   "cell_type": "code",
   "execution_count": 113,
   "metadata": {},
   "outputs": [
    {
     "name": "stdout",
     "output_type": "stream",
     "text": [
      "221\n"
     ]
    }
   ],
   "source": [
    "def findRowChecksumValue(row):\n",
    "  check = 0\n",
    "  for i in range(len(row)):\n",
    "    num = row[i]\n",
    "    possible = row[i + 1:]\n",
    "    for thing in possible:\n",
    "      if (float(num) / float(thing)).is_integer():\n",
    "        check = num / thing\n",
    "        break\n",
    "      elif (float(thing) / float(num)).is_integer():\n",
    "        check = thing / num\n",
    "        break\n",
    "\n",
    "  return check\n",
    "\n",
    "def findFileChecksum(rows):\n",
    "  check = 0\n",
    "  for row in rows:\n",
    "    check = check + findRowChecksumValue(row)\n",
    "  \n",
    "  return check\n",
    "\n",
    "sample = [[5,9,2,8], [9,4,7,3], [3,8,6,5]]\n",
    "\n",
    "assert findRowChecksumValue([2,3,7,8]) == 4\n",
    "assert findRowChecksumValue([8,7,3,2]) == 4\n",
    "assert findFileChecksum(sample) == 9\n",
    "\n",
    "print(findFileChecksum(parseDay2(Input(2))))"
   ]
  },
  {
   "cell_type": "code",
   "execution_count": null,
   "metadata": {},
   "outputs": [],
   "source": []
  },
  {
   "cell_type": "code",
   "execution_count": null,
   "metadata": {},
   "outputs": [],
   "source": []
  }
 ],
 "metadata": {
  "kernelspec": {
   "display_name": "Python 2",
   "language": "python",
   "name": "python2"
  },
  "language_info": {
   "codemirror_mode": {
    "name": "ipython",
    "version": 2
   },
   "file_extension": ".py",
   "mimetype": "text/x-python",
   "name": "python",
   "nbconvert_exporter": "python",
   "pygments_lexer": "ipython2",
   "version": "2.7.12"
  }
 },
 "nbformat": 4,
 "nbformat_minor": 2
}
